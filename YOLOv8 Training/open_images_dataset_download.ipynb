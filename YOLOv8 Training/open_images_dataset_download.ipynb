{
 "cells": [
  {
   "cell_type": "code",
   "execution_count": 7,
   "metadata": {},
   "outputs": [],
   "source": [
    "import pandas as pd\n",
    "import numpy as np\n",
    "\n",
    "#Code to write image ID's to a .txt file\n",
    "#Then use the .txt file to download images with following command:\n",
    "\"\"\"\n",
    "\"python downloader.py {txt filename} --download_folder={target folder directory} --num_processes=4\n",
    "\"\"\"\n",
    "\n",
    "# Load the CSV files\n",
    "train_annotations = pd.read_csv('oidv6-train-annotations-bbox.csv')\n",
    "class_descriptions = pd.read_csv('oidv7-class-descriptions-boxable.csv')\n",
    "test_annotations = pd.read_csv('test-annotations-bbox.csv')\n",
    "\n",
    "# User defined parameters\n",
    "save_training = False\n",
    "save_test = True\n",
    "save_random = False  # Flag to control saving random images\n",
    "number_of_images = 10000\n",
    "number_of_images_test = 1000\n",
    "number_of_images_random = 20000  # Number of random images to select\n",
    "display_name = \"Hat\""
   ]
  },
  {
   "cell_type": "code",
   "execution_count": 8,
   "metadata": {},
   "outputs": [
    {
     "name": "stdout",
     "output_type": "stream",
     "text": [
      "Wrote 393 unique ImageIDs to Hat_test_image_id_list.txt\n"
     ]
    }
   ],
   "source": [
    "\n",
    "# Step 1: Get the LabelName\n",
    "label = class_descriptions[class_descriptions['DisplayName'] == display_name]['LabelName'].values[0]\n",
    "\n",
    "# Step 2: Filter the annotations to get bounding boxes for specific class\n",
    "annotations = train_annotations[train_annotations['LabelName'] == label]\n",
    "test_annotations = test_annotations[test_annotations['LabelName'] == label]\n",
    "\n",
    "# Step 3: Get unique ImageIDs (since multiple bounding boxes can share the same ImageID)\n",
    "unique_image_ids = annotations['ImageID'].unique()\n",
    "test_unique_image_ids = test_annotations['ImageID'].unique()\n",
    "\n",
    "# Get random unique ImageIDs from entire training set\n",
    "all_unique_image_ids = train_annotations['ImageID'].unique()\n",
    "random_image_ids = np.random.choice(all_unique_image_ids, \n",
    "                                  size=min(number_of_images_random, len(all_unique_image_ids)), \n",
    "                                  replace=False)\n",
    "\n",
    "# Step 4: Limit to specified number of unique ImageIDs\n",
    "limited_image_ids = unique_image_ids[:number_of_images]\n",
    "test_limited_image_ids = test_unique_image_ids[:number_of_images_test]\n",
    "\n",
    "# Step 5: Write the ImageIDs to .txt files in the required format\n",
    "if save_training:\n",
    "    with open(f'{display_name}_image_id_list.txt', 'w') as f:\n",
    "        for image_id in limited_image_ids:\n",
    "            f.write(f\"train/{image_id}\\n\")\n",
    "    print(f\"Wrote {len(limited_image_ids)} unique ImageIDs to {display_name}_image_id_list.txt\")\n",
    "\n",
    "if save_test:\n",
    "    with open(f'{display_name}_test_image_id_list.txt', 'w') as f:\n",
    "        for image_id in test_limited_image_ids:\n",
    "            f.write(f\"test/{image_id}\\n\")\n",
    "    print(f\"Wrote {len(test_limited_image_ids)} unique ImageIDs to {display_name}_test_image_id_list.txt\")\n",
    "\n",
    "if save_random:\n",
    "    with open('random_image_id_list.txt', 'w') as f:\n",
    "        for image_id in random_image_ids:\n",
    "            f.write(f\"train/{image_id}\\n\")\n",
    "    print(f\"Wrote {len(random_image_ids)} random unique ImageIDs to random_image_id_list.txt\")"
   ]
  }
 ],
 "metadata": {
  "kernelspec": {
   "display_name": "Python 3",
   "language": "python",
   "name": "python3"
  },
  "language_info": {
   "codemirror_mode": {
    "name": "ipython",
    "version": 3
   },
   "file_extension": ".py",
   "mimetype": "text/x-python",
   "name": "python",
   "nbconvert_exporter": "python",
   "pygments_lexer": "ipython3",
   "version": "3.8.0"
  }
 },
 "nbformat": 4,
 "nbformat_minor": 2
}
